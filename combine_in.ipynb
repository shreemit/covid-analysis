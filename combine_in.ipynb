{
 "cells": [
  {
   "cell_type": "code",
   "execution_count": 1,
   "metadata": {},
   "outputs": [],
   "source": [
    "import numpy as np\n",
    "import pandas as pd\n",
    "from matplotlib import pyplot as plt\n",
    "import pickle"
   ]
  },
  {
   "cell_type": "code",
   "execution_count": 2,
   "metadata": {},
   "outputs": [],
   "source": [
    "import requests\n",
    "import pandas as pd\n",
    "import json\n",
    "import numpy as np\n",
    "from datetime import datetime\n",
    "Token = 'yoVFkAKoWYoOcIqPtXRBolQVwygTyqin'\n",
    "station_id = 'GHCND:IN023351200'\n"
   ]
  },
  {
   "cell_type": "code",
   "execution_count": 3,
   "metadata": {},
   "outputs": [
    {
     "name": "stderr",
     "output_type": "stream",
     "text": [
      "c:\\users\\sastry\\appdata\\local\\programs\\python\\python35\\lib\\site-packages\\IPython\\core\\interactiveshell.py:2785: DtypeWarning: Columns (3) have mixed types. Specify dtype option on import or set low_memory=False.\n",
      "  interactivity=interactivity, compiler=compiler, result=result)\n"
     ]
    }
   ],
   "source": [
    "allC=['IN','IT','FR','SP','UK','BR','ASN','US','CH','IR','SW','GM']\n",
    "lockdown=pd.read_csv('https://www.gstatic.com/covid19/mobility/Global_Mobility_Report.csv?cachebust=2dcf78defb92930a')\n",
    "lockdown=lockdown[['country_region','sub_region_1','date','retail_and_recreation_percent_change_from_baseline','grocery_and_pharmacy_percent_change_from_baseline',\n",
    "                'transit_stations_percent_change_from_baseline' ,'workplaces_percent_change_from_baseline' ,'residential_percent_change_from_baseline']]\n",
    "\n",
    "lockdown.columns = ['country','state',\n",
    "                    'date','retail_and_recreation','grocery_and_pharnacy'\n",
    "                    ,'transit_stations' ,'workplaces' ,'residential']"
   ]
  },
  {
   "cell_type": "markdown",
   "metadata": {},
   "source": [
    "# prepare dataset for india\n"
   ]
  },
  {
   "cell_type": "code",
   "execution_count": 4,
   "metadata": {},
   "outputs": [],
   "source": [
    "weather=pd.read_csv('citiesStatesUpdated.csv')\n",
    "weather.columns=['city','state','population','weather_id']\n",
    "city_index=weather.columns.get_loc('city')\n",
    "id_index=weather.columns.get_loc('weather_id')\n",
    "\n",
    "final1=pd.DataFrame(columns=['state','date','avg_temp','city',\n",
    "                             'retail_and_recreation','grocery_and_pharnacy','transit_stations' \n",
    "                             ,'workplaces' ,'residential'])\n",
    "\n",
    "cities_IN=pd.read_html('https://en.wikipedia.org/wiki/List_of_cities_in_India_by_population',header=0)\n",
    "cities_IN=cities_IN[0]\n",
    "cities_IN=cities_IN[['City','State or union territory','Population(2011)[3]']]\n",
    "cities_IN=cities_IN.head(15)\n",
    "cities_IN.replace(to_replace =\"Visakhapatnam[a][5]\", value =\"Visakhapatnam\", inplace=True)\n",
    "cities_IN.columns = ['city','state','population']"
   ]
  },
  {
   "cell_type": "markdown",
   "metadata": {},
   "source": [
    "# Temp Data"
   ]
  },
  {
   "cell_type": "code",
   "execution_count": 5,
   "metadata": {},
   "outputs": [],
   "source": [
    "def getWeatherData(weatherID,city):\n",
    "    # initialize lists to store data\n",
    "    dates_temp = []\n",
    "    dates_prcp = []\n",
    "    temps = []\n",
    "    prcp = []\n",
    "    year = str(2020)\n",
    "    # make the api call\n",
    "    r = requests.get(\n",
    "        'https://www.ncdc.noaa.gov/cdo-web/api/v2/data?datasetid=GHCND&datatypeid=TAVG&units=metric&limit=1000&stationid=GHCND:'+weatherID+'&startdate=' + year + '-01-01&enddate=' + year + '-12-31',\n",
    "        headers={'token': Token})\n",
    "#     print (r)\n",
    "    # load the api response as a json\n",
    "    d = json.loads(r.text)\n",
    "    # get all items in the response which are average temperature readings\n",
    "    avg_temps = [item for item in d['results'] if item['datatype'] == 'TAVG']\n",
    "    # get the date field from all average temperature readings\n",
    "    dates_temp += [item['date'] for item in avg_temps]\n",
    "    # get the actual average temperature from all average temperature readings\n",
    "    temps += [item['value'] for item in avg_temps]\n",
    "    #initialize dataframe\n",
    "    df_temp = pd.DataFrame()\n",
    "    #populate date and average temperature fields (cast string date to datetime and convert temperature from tenths of Celsius to Fahrenheit)\n",
    "    df_temp['date'] = [datetime.strptime(d, \"%Y-%m-%dT%H:%M:%S\") for d in dates_temp]\n",
    "    df_temp['avgTemp'] = [float(v) for v in temps]\n",
    "    df_temp['date']=df_temp['date'].astype(str)\n",
    "    df_temp['city']=str(city)\n",
    "    \n",
    "    return df_temp"
   ]
  },
  {
   "cell_type": "code",
   "execution_count": 6,
   "metadata": {},
   "outputs": [
    {
     "ename": "NameError",
     "evalue": "name 'k' is not defined",
     "output_type": "error",
     "traceback": [
      "\u001b[1;31m---------------------------------------------------------------------------\u001b[0m",
      "\u001b[1;31mNameError\u001b[0m                                 Traceback (most recent call last)",
      "\u001b[1;32m<ipython-input-6-bae9dec52156>\u001b[0m in \u001b[0;36m<module>\u001b[1;34m()\u001b[0m\n\u001b[0;32m      1\u001b[0m \u001b[1;32mfor\u001b[0m \u001b[0mi\u001b[0m \u001b[1;32min\u001b[0m \u001b[0mrange\u001b[0m\u001b[1;33m(\u001b[0m\u001b[1;36m0\u001b[0m\u001b[1;33m,\u001b[0m\u001b[1;36m1\u001b[0m\u001b[1;33m)\u001b[0m\u001b[1;33m:\u001b[0m\u001b[1;33m\u001b[0m\u001b[0m\n\u001b[0;32m      2\u001b[0m     \u001b[0mtemp\u001b[0m\u001b[1;33m=\u001b[0m\u001b[0mgetWeatherData\u001b[0m\u001b[1;33m(\u001b[0m\u001b[0mweather\u001b[0m\u001b[1;33m.\u001b[0m\u001b[0miat\u001b[0m\u001b[1;33m[\u001b[0m\u001b[0mi\u001b[0m\u001b[1;33m,\u001b[0m \u001b[0mid_index\u001b[0m\u001b[1;33m]\u001b[0m\u001b[1;33m,\u001b[0m\u001b[0mweather\u001b[0m\u001b[1;33m.\u001b[0m\u001b[0miat\u001b[0m\u001b[1;33m[\u001b[0m\u001b[0mi\u001b[0m\u001b[1;33m,\u001b[0m\u001b[0mcity_index\u001b[0m\u001b[1;33m]\u001b[0m\u001b[1;33m)\u001b[0m\u001b[1;33m\u001b[0m\u001b[0m\n\u001b[1;32m----> 3\u001b[1;33m     \u001b[0mlast\u001b[0m\u001b[1;33m=\u001b[0m\u001b[0mpd\u001b[0m\u001b[1;33m.\u001b[0m\u001b[0mmerge\u001b[0m\u001b[1;33m(\u001b[0m\u001b[0mtemp\u001b[0m\u001b[1;33m,\u001b[0m\u001b[0mk\u001b[0m\u001b[1;33m)\u001b[0m\u001b[1;33m\u001b[0m\u001b[0m\n\u001b[0m\u001b[0;32m      4\u001b[0m \u001b[1;33m\u001b[0m\u001b[0m\n",
      "\u001b[1;31mNameError\u001b[0m: name 'k' is not defined"
     ]
    }
   ],
   "source": [
    "for i in range(0,1):\n",
    "    temp=getWeatherData(weather.iat[i, id_index],weather.iat[i,city_index])\n",
    "    last=pd.merge(temp,k)\n",
    "    "
   ]
  },
  {
   "cell_type": "markdown",
   "metadata": {},
   "source": [
    "# Joining cities and lockdown = df1"
   ]
  },
  {
   "cell_type": "code",
   "execution_count": null,
   "metadata": {},
   "outputs": [],
   "source": [
    "weather['state']=weather['state'].astype(str)\n",
    "lockdown['state']=lockdown['state'].astype(str)\n",
    "df1  = pd.merge(weather,lockdown)"
   ]
  },
  {
   "cell_type": "code",
   "execution_count": null,
   "metadata": {},
   "outputs": [],
   "source": [
    "df2=pd.DataFrame()\n"
   ]
  },
  {
   "cell_type": "code",
   "execution_count": null,
   "metadata": {},
   "outputs": [],
   "source": [
    "for i in range(0,15):\n",
    "    temp=getWeatherData(weather.iat[i, id_index],weather.iat[i,city_index])\n",
    "    last=pd.merge(temp,df1)\n",
    "    \n",
    "    df2=pd.concat([df2,last])\n",
    "    last.empty"
   ]
  },
  {
   "cell_type": "markdown",
   "metadata": {},
   "source": [
    "# Combining all the dataframes"
   ]
  },
  {
   "cell_type": "code",
   "execution_count": null,
   "metadata": {},
   "outputs": [],
   "source": [
    "covid_in = pd.read_csv('final_IN.csv')"
   ]
  },
  {
   "cell_type": "code",
   "execution_count": null,
   "metadata": {},
   "outputs": [],
   "source": [
    "covid_in['city']=covid_in['city'].astype(str)\n",
    "covid_in['date']=pd.to_datetime(covid_in['date'], format=\"%d-%m-%Y\")\n",
    "covid_in['date'] = covid_in['date'].dt.strftime('%d-%m-%Y')\n",
    "\n",
    "df2['city']=df2['city'].astype(str)\n",
    "# df2['date']=pd.to_datetime(df2['date'], format=\"%Y-%m-%d\")\n",
    "# df2['date'] = df2['date'].dt.strftime('%d-%m-%Y')\n",
    "\n",
    "\n",
    "print(covid_in.iat[50,0])\n",
    "print(\"-------------------------------------------------------\")\n",
    "print(df2.iat[4,0])"
   ]
  },
  {
   "cell_type": "code",
   "execution_count": null,
   "metadata": {},
   "outputs": [],
   "source": [
    "# df3=pd.DataFrame(columns=['city','count','date','avgTemp','state','population',\n",
    "#                           'weather_id','country' ,'retail_and_recreation','grocery_and_pharnacy',\n",
    "#                           'transit_stations','workplaces'])\n",
    "\n",
    "# df3=pd.merge(df2,covid_in)\n",
    "# print(covid_in.shape)"
   ]
  },
  {
   "cell_type": "markdown",
   "metadata": {},
   "source": [
    "Function to combine\n",
    "covid_in =[ date    city  count]\n",
    "df2 = [date  avgTemp city  state  population weather_id country retail_and_recreation  grocery_and_pharnacy  transit_stations  workplaces]"
   ]
  },
  {
   "cell_type": "code",
   "execution_count": null,
   "metadata": {},
   "outputs": [],
   "source": [
    "def getDF():\n",
    "    k=0\n",
    "    for row in range(0,len(df2)):\n",
    "        \n",
    "       # Getting Current Values from df2\n",
    "        date_df2=df2.iat[row,0]\n",
    "        avgTemp_df2=df2.iat[row,1]\n",
    "        city_df2=str(df2.iat[row,2]).lower()\n",
    "        state_df2=df2.iat[row,3]\n",
    "        population_df2=df2.iat[row,4]\n",
    "        weather_df2=df2.iat[row,5]\n",
    "        country=df2.iat[row,6]\n",
    "        retail_and_recreation=df2.iat[row,7]\n",
    "        grocery_and_pharnacy=df2.iat[row,8]\n",
    "        transit_stations=df2.iat[row,9]\n",
    "        workplaces=df2.iat[row,10]\n",
    "        residential=df2.iat[row,11]\n",
    "        for i in range(0,len(covid_in)):\n",
    "            # Getting Current Values from covid_in\n",
    "            date_covid=covid_in.iat[i,0]\n",
    "            city_covid=str(covid_in.iat[i,1]).lower()\n",
    "            count_covid=covid_in.iat[i,2]\n",
    "            \n",
    "            if (date_df2==date_covid and city_df2==city_covid):\n",
    "                df3.loc[k]=[date_df2,avgTemp_df2,city_df2,state_df2,\n",
    "                              population_df2,weather_df2\n",
    "                              ,country,retail_and_recreation\n",
    "                              ,grocery_and_pharnacy\n",
    "                              ,transit_stations,workplaces,residential,count_covid]\n",
    "                k+=1 \n",
    "                "
   ]
  },
  {
   "cell_type": "code",
   "execution_count": null,
   "metadata": {},
   "outputs": [],
   "source": [
    "getDF()\n",
    "    "
   ]
  },
  {
   "cell_type": "code",
   "execution_count": null,
   "metadata": {},
   "outputs": [],
   "source": [
    "df3.columns=['date','avgTemp','city','state','population','weather_id',\n",
    "            'country','retail_and_recreation','grocery_and_pharnacy','transit_stations'\n",
    "             ,'workplaces','residential','count']"
   ]
  },
  {
   "cell_type": "code",
   "execution_count": null,
   "metadata": {
    "scrolled": false
   },
   "outputs": [],
   "source": [
    "df3.to_csv('final_final_final.csv',index=False)"
   ]
  },
  {
   "cell_type": "code",
   "execution_count": null,
   "metadata": {},
   "outputs": [],
   "source": [
    "# plt.plot(df3['date'], df3['avgTemp'],'-o',label='Temperature') \n",
    "# plt.plot(df3['date'], df3['city'],label='City') \n",
    "# plt.plot(df3['date'],df3['retail_and_recreation'],'-d',label='Lockdown in retail')\n",
    "# plt.plot(df3['date'],df3['count'],'-x',label='New Cases')\n",
    "\n",
    "# plt.legend(loc=\"upper left\")"
   ]
  },
  {
   "cell_type": "code",
   "execution_count": null,
   "metadata": {},
   "outputs": [],
   "source": [
    "!pip install jupyterthemes"
   ]
  },
  {
   "cell_type": "code",
   "execution_count": null,
   "metadata": {},
   "outputs": [],
   "source": [
    "!jt -t monokai"
   ]
  },
  {
   "cell_type": "code",
   "execution_count": null,
   "metadata": {},
   "outputs": [],
   "source": [
    "!jt -r"
   ]
  },
  {
   "cell_type": "code",
   "execution_count": null,
   "metadata": {},
   "outputs": [],
   "source": []
  }
 ],
 "metadata": {
  "kernelspec": {
   "display_name": "Python 3",
   "language": "python",
   "name": "python3"
  },
  "language_info": {
   "codemirror_mode": {
    "name": "ipython",
    "version": 3
   },
   "file_extension": ".py",
   "mimetype": "text/x-python",
   "name": "python",
   "nbconvert_exporter": "python",
   "pygments_lexer": "ipython3",
   "version": "3.5.0"
  }
 },
 "nbformat": 4,
 "nbformat_minor": 2
}
