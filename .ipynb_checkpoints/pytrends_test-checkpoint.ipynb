{
 "cells": [
  {
   "cell_type": "code",
   "execution_count": 1,
   "metadata": {},
   "outputs": [],
   "source": [
    "import pandas as pd\n",
    "import pytrends\n",
    "from pytrends.request import TrendReq\n",
    "pytrend = TrendReq()"
   ]
  },
  {
   "cell_type": "code",
   "execution_count": 2,
   "metadata": {},
   "outputs": [],
   "source": [
    "KEYWORDS=['Covid','Flu','Beach']\n",
    "KEYWORDS_CODES=[pytrend.suggestions(keyword=i)[0] for i in KEYWORDS] \n",
    "df_CODES= pd.DataFrame(KEYWORDS_CODES)"
   ]
  },
  {
   "cell_type": "code",
   "execution_count": 3,
   "metadata": {},
   "outputs": [
    {
     "name": "stdout",
     "output_type": "stream",
     "text": [
      "         mid        title      type\n",
      "0  /m/01cpyy  Coronavirus     Virus\n",
      "1   /m/0cycc    Influenza   Disease\n",
      "2   /m/0b3yr        Beach  Landform\n"
     ]
    }
   ],
   "source": [
    "# print\n",
    "print(df_CODES)"
   ]
  },
  {
   "cell_type": "code",
   "execution_count": 6,
   "metadata": {},
   "outputs": [],
   "source": [
    "EXACT_KEYWORDS=list(df_CODES['mid'])\n",
    "DATE_INTERVAL='today 5-y'\n",
    "COUNTRY=[\"US-AL\",\"US-GA\"] #Use this link for iso country code\n",
    "CATEGORY=0 # Use this link to select categories\n",
    "SEARCH_TYPE='' #default is 'web searches',others include 'images','news','youtube','froogle' (google shopping)"
   ]
  },
  {
   "cell_type": "code",
   "execution_count": 7,
   "metadata": {},
   "outputs": [
    {
     "ename": "NameError",
     "evalue": "name 'SEARCH_TYPE' is not defined",
     "output_type": "error",
     "traceback": [
      "\u001b[1;31m---------------------------------------------------------------------------\u001b[0m",
      "\u001b[1;31mNameError\u001b[0m                                 Traceback (most recent call last)",
      "\u001b[1;32m<ipython-input-7-f5da2efb8036>\u001b[0m in \u001b[0;36m<module>\u001b[1;34m()\u001b[0m\n\u001b[0;32m      5\u001b[0m \u001b[1;32mfor\u001b[0m \u001b[0mCountry\u001b[0m \u001b[1;32min\u001b[0m \u001b[0mCOUNTRY\u001b[0m\u001b[1;33m:\u001b[0m\u001b[1;33m\u001b[0m\u001b[0m\n\u001b[0;32m      6\u001b[0m     \u001b[1;32mfor\u001b[0m \u001b[0mkeyword\u001b[0m \u001b[1;32min\u001b[0m \u001b[0mIndividual_EXACT_KEYWORD\u001b[0m\u001b[1;33m:\u001b[0m\u001b[1;33m\u001b[0m\u001b[0m\n\u001b[1;32m----> 7\u001b[1;33m         \u001b[0mpytrend\u001b[0m\u001b[1;33m.\u001b[0m\u001b[0mbuild_payload\u001b[0m\u001b[1;33m(\u001b[0m\u001b[0mkw_list\u001b[0m\u001b[1;33m=\u001b[0m\u001b[0mkeyword\u001b[0m\u001b[1;33m,\u001b[0m\u001b[0mtimeframe\u001b[0m \u001b[1;33m=\u001b[0m \u001b[0mDATE_INTERVAL\u001b[0m\u001b[1;33m,\u001b[0m\u001b[0mgeo\u001b[0m \u001b[1;33m=\u001b[0m \u001b[0mCountry\u001b[0m\u001b[1;33m,\u001b[0m\u001b[0mcat\u001b[0m\u001b[1;33m=\u001b[0m\u001b[0mCATEGORY\u001b[0m\u001b[1;33m,\u001b[0m\u001b[0mgprop\u001b[0m\u001b[1;33m=\u001b[0m\u001b[0mSEARCH_TYPE\u001b[0m\u001b[1;33m)\u001b[0m\u001b[1;33m\u001b[0m\u001b[0m\n\u001b[0m\u001b[0;32m      8\u001b[0m         \u001b[0mdicti\u001b[0m\u001b[1;33m[\u001b[0m\u001b[0mi\u001b[0m\u001b[1;33m]\u001b[0m \u001b[1;33m=\u001b[0m \u001b[0mpytrend\u001b[0m\u001b[1;33m.\u001b[0m\u001b[0minterest_over_time\u001b[0m\u001b[1;33m(\u001b[0m\u001b[1;33m)\u001b[0m\u001b[1;33m\u001b[0m\u001b[0m\n\u001b[0;32m      9\u001b[0m         \u001b[0mi\u001b[0m\u001b[1;33m+=\u001b[0m\u001b[1;36m1\u001b[0m\u001b[1;33m\u001b[0m\u001b[0m\n",
      "\u001b[1;31mNameError\u001b[0m: name 'SEARCH_TYPE' is not defined"
     ]
    }
   ],
   "source": [
    "Individual_EXACT_KEYWORD = list(zip(*[iter(EXACT_KEYWORDS)]*1))\n",
    "Individual_EXACT_KEYWORD = [list(x) for x in Individual_EXACT_KEYWORD]\n",
    "dicti = {}\n",
    "i = 1\n",
    "for Country in COUNTRY:\n",
    "    for keyword in Individual_EXACT_KEYWORD:\n",
    "        pytrend.build_payload(kw_list=keyword,timeframe = DATE_INTERVAL,geo = Country,cat=CATEGORY,gprop=SEARCH_TYPE) \n",
    "        dicti[i] = pytrend.interest_over_time()\n",
    "        i+=1\n",
    "df_trends = pd.concat(dicti, axis=1)"
   ]
  },
  {
   "cell_type": "code",
   "execution_count": null,
   "metadata": {},
   "outputs": [],
   "source": [
    "df_trends.columns = df_trends.columns.droplevel(0) #drop outside header\n",
    "df_trends = df_trends.drop('isPartial', axis = 1) #drop \"isPartial\"\n",
    "df_trends.reset_index(level=0,inplace=True) #reset_index\n",
    "df_trends.columns=['date','Covid-AL','FLU-AL','Beach-AL','Covid-GA','FLU-GA','Beach-GA']"
   ]
  },
  {
   "cell_type": "code",
   "execution_count": null,
   "metadata": {},
   "outputs": [],
   "source": [
    "print(df_trends)"
   ]
  },
  {
   "cell_type": "code",
   "execution_count": null,
   "metadata": {},
   "outputs": [],
   "source": [
    "import matplotlib.pyplot as plt\n",
    "\n",
    "import seaborn as sns\n",
    "\n",
    "sns.set(color_codes=True)\n",
    "dx = df_trends.plot(figsize = (12,8),x=\"date\", y=['Covid-GA','FLU-GA','Beach-GA'], kind=\"line\", title = \"Covid Google Trends\")\n",
    "dx.set_xlabel('Date')\n",
    "dx.set_ylabel('Trends Index')\n",
    "dx.tick_params(axis='both', which='both', labelsize=10)\n",
    "plt.show()"
   ]
  },
  {
   "cell_type": "code",
   "execution_count": null,
   "metadata": {},
   "outputs": [],
   "source": [
    "\n",
    "# Same data downloaded from browser https://trends.google.com/trends/explore?date=today%205-y&geo=US-GA&q=FLU,Beach"
   ]
  },
  {
   "cell_type": "code",
   "execution_count": null,
   "metadata": {},
   "outputs": [],
   "source": []
  }
 ],
 "metadata": {
  "kernelspec": {
   "display_name": "Python 3",
   "language": "python",
   "name": "python3"
  },
  "language_info": {
   "codemirror_mode": {
    "name": "ipython",
    "version": 3
   },
   "file_extension": ".py",
   "mimetype": "text/x-python",
   "name": "python",
   "nbconvert_exporter": "python",
   "pygments_lexer": "ipython3",
   "version": "3.5.0"
  }
 },
 "nbformat": 4,
 "nbformat_minor": 2
}
