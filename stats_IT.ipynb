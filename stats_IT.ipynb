{
 "cells": [
  {
   "cell_type": "code",
   "execution_count": 1,
   "metadata": {},
   "outputs": [],
   "source": [
    "import numpy as np\n",
    "import pandas as pd\n",
    "from matplotlib import pyplot as plt\n",
    "import pickle\n",
    "import requests\n",
    "import json\n",
    "import time\n",
    "# import the library\n",
    "import googletrans\n",
    "from googletrans import Translator\n",
    "import goslate\n",
    "from datetime import datetime\n",
    "Token = 'yoVFkAKoWYoOcIqPtXRBolQVwygTyqin'"
   ]
  },
  {
   "cell_type": "code",
   "execution_count": 2,
   "metadata": {},
   "outputs": [],
   "source": [
    "latest_data=pd.read_csv('https://raw.githubusercontent.com/pcm-dpc/COVID-19/master/dati-province/dpc-covid19-ita-province.csv')"
   ]
  },
  {
   "cell_type": "code",
   "execution_count": 3,
   "metadata": {},
   "outputs": [],
   "source": [
    "weather=pd.read_csv('C:\\ML\\COV files\\citiesIT.csv')"
   ]
  },
  {
   "cell_type": "code",
   "execution_count": 6,
   "metadata": {
    "collapsed": true
   },
   "outputs": [
    {
     "name": "stderr",
     "output_type": "stream",
     "text": [
      "c:\\users\\sastry\\appdata\\local\\programs\\python\\python35\\lib\\site-packages\\IPython\\core\\interactiveshell.py:2785: DtypeWarning: Columns (3) have mixed types. Specify dtype option on import or set low_memory=False.\n",
      "  interactivity=interactivity, compiler=compiler, result=result)\n"
     ]
    }
   ],
   "source": [
    "lockdown=pd.read_csv('https://www.gstatic.com/covid19/mobility/Global_Mobility_Report.csv?cachebust=2dcf78defb92930a')\n",
    "lockdown=lockdown[['country_region','sub_region_1','date','retail_and_recreation_percent_change_from_baseline','grocery_and_pharmacy_percent_change_from_baseline',\n",
    "                'transit_stations_percent_change_from_baseline' ,'workplaces_percent_change_from_baseline' ,'residential_percent_change_from_baseline']]\n",
    "\n",
    "lockdown.columns = ['country','state',\n",
    "                    'date','retail_and_recreation','grocery_and_pharnacy'\n",
    "                    ,'transit_stations' ,'workplaces' ,'residential']\n",
    "\n"
   ]
  },
  {
   "cell_type": "code",
   "execution_count": 6,
   "metadata": {},
   "outputs": [],
   "source": [
    "def translateNames(row):\n",
    "    gs = goslate.Goslate()\n",
    "    time.sleep(1)\n",
    "    translatedText = gs.translate(row,'it')\n",
    "    return translatedText"
   ]
  },
  {
   "cell_type": "code",
   "execution_count": 22,
   "metadata": {},
   "outputs": [],
   "source": [
    "latest_data=latest_data[['data','denominazione_regione','denominazione_provincia','sigla_provincia','totale_casi']]"
   ]
  },
  {
   "cell_type": "code",
   "execution_count": 23,
   "metadata": {},
   "outputs": [],
   "source": [
    "latest_data.columns=['date','state','city','state_abbv','total_cases']"
   ]
  },
  {
   "cell_type": "code",
   "execution_count": 30,
   "metadata": {},
   "outputs": [],
   "source": [
    "def changeDateFormat(row):\n",
    "    datetime_object = datetime.strptime(row, '%Y-%m-%d')\n",
    "    return (datetime_object)"
   ]
  },
  {
   "cell_type": "code",
   "execution_count": 37,
   "metadata": {
    "collapsed": true
   },
   "outputs": [
    {
     "name": "stderr",
     "output_type": "stream",
     "text": [
      "c:\\users\\sastry\\appdata\\local\\programs\\python\\python35\\lib\\site-packages\\ipykernel_launcher.py:2: SettingWithCopyWarning: \n",
      "A value is trying to be set on a copy of a slice from a DataFrame.\n",
      "Try using .loc[row_indexer,col_indexer] = value instead\n",
      "\n",
      "See the caveats in the documentation: http://pandas.pydata.org/pandas-docs/stable/indexing.html#indexing-view-versus-copy\n",
      "  \n"
     ]
    }
   ],
   "source": [
    "# latest_data['date']=latest_data['date'].apply(changeDateFormat)\n",
    "latest_data['date']=pd.to_datetime(latest_data['date'])"
   ]
  },
  {
   "cell_type": "code",
   "execution_count": 38,
   "metadata": {
    "collapsed": true
   },
   "outputs": [
    {
     "name": "stderr",
     "output_type": "stream",
     "text": [
      "c:\\users\\sastry\\appdata\\local\\programs\\python\\python35\\lib\\site-packages\\ipykernel_launcher.py:1: SettingWithCopyWarning: \n",
      "A value is trying to be set on a copy of a slice from a DataFrame.\n",
      "Try using .loc[row_indexer,col_indexer] = value instead\n",
      "\n",
      "See the caveats in the documentation: http://pandas.pydata.org/pandas-docs/stable/indexing.html#indexing-view-versus-copy\n",
      "  \"\"\"Entry point for launching an IPython kernel.\n"
     ]
    }
   ],
   "source": [
    "latest_data['date'] = latest_data['date'].dt.normalize()"
   ]
  },
  {
   "cell_type": "code",
   "execution_count": 7,
   "metadata": {},
   "outputs": [],
   "source": [
    "\n",
    "lockdown.replace(to_replace =\"Apulia\", value =\"Puglia\", inplace=True)\n",
    "lockdown.replace(to_replace =\"Lombary\", value =\"Lombardia\", inplace=True)\n",
    "lockdown.replace(to_replace =\"Piedmont\", value =\"Piemonte\", inplace=True)\n",
    "lockdown.replace(to_replace =\"Sardinia\", value =\"Sardegna\", inplace=True)\n",
    "lockdown.replace(to_replace =\"Sicily\", value =\"Sicilia\", inplace=True)\n",
    "lockdown.replace(to_replace =\"Trentino-South Tyrol\", value =\"Trentino Alto Adige\", inplace=True)\n",
    "lockdown.replace(to_replace =\"Tuscany-\", value =\"Toscana\", inplace=True)\n"
   ]
  },
  {
   "cell_type": "code",
   "execution_count": 12,
   "metadata": {},
   "outputs": [],
   "source": [
    "df1=pd.merge(weather,lockdown)"
   ]
  },
  {
   "cell_type": "code",
   "execution_count": 13,
   "metadata": {},
   "outputs": [],
   "source": [
    "temp_df=pd.DataFrame()\n",
    "df2=pd.DataFrame()"
   ]
  },
  {
   "cell_type": "code",
   "execution_count": 14,
   "metadata": {},
   "outputs": [],
   "source": [
    "def getWeatherData(weatherID,city):\n",
    "    # initialize lists to store data\n",
    "    dates_temp = []\n",
    "    dates_prcp = []\n",
    "    temps = []\n",
    "    prcp = []\n",
    "    year = str(2020)\n",
    "    # make the api call\n",
    "    r = requests.get(\n",
    "        'https://www.ncdc.noaa.gov/cdo-web/api/v2/data?datasetid=GHCND&datatypeid=TAVG&units=metric&limit=1000&stationid=GHCND:'+weatherID+'&startdate=' + year + '-01-01&enddate=' + year + '-12-31',\n",
    "        headers={'token': Token})\n",
    "    print (r)\n",
    "    # load the api response as a json\n",
    "    d = json.loads(r.text)\n",
    "    # get all items in the response which are average temperature readings\n",
    "    avg_temps = [item for item in d['results'] if item['datatype'] == 'TAVG']\n",
    "    # get the date field from all average temperature readings\n",
    "    dates_temp += [item['date'] for item in avg_temps]\n",
    "    # get the actual average temperature from all average temperature readings\n",
    "    temps += [item['value'] for item in avg_temps]\n",
    "    #initialize dataframe\n",
    "    df_temp = pd.DataFrame()\n",
    "    #populate date and average temperature fields (cast string date to datetime and convert temperature from tenths of Celsius to Fahrenheit)\n",
    "    df_temp['date'] = [datetime.strptime(d, \"%Y-%m-%dT%H:%M:%S\") for d in dates_temp]\n",
    "    df_temp['avgTemp'] = [float(v) for v in temps]\n",
    "    df_temp['date']=df_temp['date'].astype(str)\n",
    "    df_temp['city']=str(city)\n",
    "    \n",
    "    return df_temp"
   ]
  },
  {
   "cell_type": "code",
   "execution_count": 17,
   "metadata": {
    "collapsed": true
   },
   "outputs": [
    {
     "name": "stdout",
     "output_type": "stream",
     "text": [
      "<Response [200]>\n",
      "<Response [200]>\n",
      "<Response [200]>\n",
      "<Response [200]>\n",
      "<Response [200]>\n",
      "<Response [200]>\n",
      "<Response [200]>\n",
      "<Response [200]>\n",
      "<Response [200]>\n",
      "<Response [200]>\n",
      "<Response [200]>\n",
      "<Response [200]>\n"
     ]
    }
   ],
   "source": [
    "for i in range(0, len(weather)):\n",
    "#     print (weather.iat[i, 3])\n",
    "    temp_df=getWeatherData(weather.iat[i, 3],weather.iat[i,0])\n",
    "    last=pd.merge(temp_df,df1)\n",
    "    df2=pd.concat([df2,last])\n",
    "    last.empty"
   ]
  },
  {
   "cell_type": "code",
   "execution_count": 32,
   "metadata": {},
   "outputs": [],
   "source": [
    "df2['date']=df2['date'].apply(changeDateFormat)"
   ]
  },
  {
   "cell_type": "code",
   "execution_count": 42,
   "metadata": {},
   "outputs": [],
   "source": [
    "df3=pd.merge(latest_data,df2)"
   ]
  },
  {
   "cell_type": "code",
   "execution_count": 66,
   "metadata": {
    "collapsed": true
   },
   "outputs": [
    {
     "name": "stderr",
     "output_type": "stream",
     "text": [
      "c:\\users\\sastry\\appdata\\local\\programs\\python\\python35\\lib\\site-packages\\pandas\\core\\indexing.py:189: SettingWithCopyWarning: \n",
      "A value is trying to be set on a copy of a slice from a DataFrame\n",
      "\n",
      "See the caveats in the documentation: http://pandas.pydata.org/pandas-docs/stable/indexing.html#indexing-view-versus-copy\n",
      "  self._setitem_with_indexer(indexer, value)\n"
     ]
    }
   ],
   "source": [
    "for row in range(1, len(df3)):\n",
    "    new=abs(df3.iat[row,4]-df3.iat[row-1,4])\n",
    "    df3['new_cases'].loc[row]=new\n",
    "    "
   ]
  },
  {
   "cell_type": "code",
   "execution_count": 72,
   "metadata": {},
   "outputs": [],
   "source": [
    "df3.to_csv('test.csv')"
   ]
  },
  {
   "cell_type": "code",
   "execution_count": null,
   "metadata": {},
   "outputs": [],
   "source": []
  }
 ],
 "metadata": {
  "kernelspec": {
   "display_name": "Python 3",
   "language": "python",
   "name": "python3"
  },
  "language_info": {
   "codemirror_mode": {
    "name": "ipython",
    "version": 3
   },
   "file_extension": ".py",
   "mimetype": "text/x-python",
   "name": "python",
   "nbconvert_exporter": "python",
   "pygments_lexer": "ipython3",
   "version": "3.8.3"
  }
 },
 "nbformat": 4,
 "nbformat_minor": 2
}
